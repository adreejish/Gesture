{
 "cells": [
  {
   "cell_type": "code",
   "execution_count": 2,
   "metadata": {},
   "outputs": [],
   "source": "import detecthands_multiprocess"
  },
  {
   "cell_type": "code",
   "execution_count": 1,
   "metadata": {},
   "outputs": [],
   "source": "import cv2"
  },
  {
   "cell_type": "code",
   "execution_count": 3,
   "metadata": {},
   "outputs": [],
   "source": "from multiprocessing import Process\n"
  },
  {
   "cell_type": "code",
   "execution_count": 4,
   "metadata": {},
   "outputs": [],
   "source": "import multiprocessing"
  },
  {
   "cell_type": "code",
   "execution_count": 5,
   "metadata": {},
   "outputs": [],
   "source": "q = multiprocessing.Manager().Queue()\nrq=multiprocessing.Manager().Queue()\nlq=multiprocessing.Manager().Queue()"
  },
  {
   "cell_type": "code",
   "execution_count": 6,
   "metadata": {},
   "outputs": [],
   "source": "t1 = Process(target = detecthands_multiprocess.det_hands, args = (q,rq,lq,))\n"
  },
  {
   "cell_type": "code",
   "execution_count": 7,
   "metadata": {},
   "outputs": [],
   "source": "def show(inq,inrq,inlq):\n    image=cv2.imread(\"football_guy.jpeg\")\n    while True:\n        data=inq.get()\n        rimg=inrq.get()\n        limg=inlq.get()\n        #print(data)\n        \n        \n        cv2.putText(image,str(data), (50,170), cv2.FONT_HERSHEY_SIMPLEX, 2, (0,0,255))\n        cv2.imshow('windows', rimg)\n        cv2.imshow('windows2', limg)\n        if cv2.waitKey(5) & 0xFF == 27:\n            break\n        \n       "
  },
  {
   "cell_type": "code",
   "execution_count": 8,
   "metadata": {},
   "outputs": [],
   "source": "t2 = Process(target = show, args = (q,rq,lq,))\n"
  },
  {
   "cell_type": "code",
   "execution_count": 9,
   "metadata": {},
   "outputs": [],
   "source": "t1.start()"
  },
  {
   "cell_type": "code",
   "execution_count": 10,
   "metadata": {},
   "outputs": [],
   "source": "t2.start()"
  },
  {
   "cell_type": "code",
   "execution_count": null,
   "metadata": {},
   "outputs": [],
   "source": ""
  }
 ],
 "metadata": {
  "kernelspec": {
   "display_name": "penv",
   "language": "python",
   "name": "penv"
  },
  "language_info": {
   "codemirror_mode": {
    "name": "ipython",
    "version": 3
   },
   "file_extension": ".py",
   "mimetype": "text/x-python",
   "name": "python",
   "nbconvert_exporter": "python",
   "pygments_lexer": "ipython3",
   "version": "3.6.9"
  }
 },
 "nbformat": 4,
 "nbformat_minor": 4
}
