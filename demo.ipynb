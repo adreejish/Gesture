{
 "cells": [
  {
   "cell_type": "markdown",
   "metadata": {},
   "source": "# Navigate to rectangle using right palm until intersection is true. Close palm to drag. Open palm to release"
  },
  {
   "cell_type": "code",
   "execution_count": 1,
   "metadata": {},
   "outputs": [],
   "source": "import detecthands_multiprocess"
  },
  {
   "cell_type": "code",
   "execution_count": 2,
   "metadata": {},
   "outputs": [],
   "source": "import cv2"
  },
  {
   "cell_type": "code",
   "execution_count": 3,
   "metadata": {},
   "outputs": [],
   "source": "from multiprocessing import Process\n"
  },
  {
   "cell_type": "code",
   "execution_count": 4,
   "metadata": {},
   "outputs": [],
   "source": "import multiprocessing"
  },
  {
   "cell_type": "code",
   "execution_count": 5,
   "metadata": {},
   "outputs": [],
   "source": "import numpy as np"
  },
  {
   "cell_type": "code",
   "execution_count": 6,
   "metadata": {},
   "outputs": [],
   "source": "q = multiprocessing.Manager().Queue()\nrq=multiprocessing.Manager().Queue()\nlq=multiprocessing.Manager().Queue()"
  },
  {
   "cell_type": "code",
   "execution_count": 7,
   "metadata": {},
   "outputs": [],
   "source": "t1 = Process(target = detecthands_multiprocess.det_hands, args = (q,rq,lq,))\n"
  },
  {
   "cell_type": "code",
   "execution_count": 8,
   "metadata": {},
   "outputs": [],
   "source": "def show(inq,inrq,inlq):\n    recx1=500\n    recy1=200\n    recx2=550\n    recy2=250\n    rectangleintersect=False\n    prevopen=False\n    rectcolor=(255,0,0)\n    \n    while True:\n        data=inq.get()\n        rimg=inrq.get()\n        limg=inlq.get()\n        canvas=np.full_like(rimg, [255,255,255])\n        \n\n        \n        righthandopen=False\n        \n        if data['righthandcentre'][0] is not None:\n\n            if data['firstFingerIsOpen']==True and data['secondFingerIsOpen']==True and data['thirdFingerIsOpen']==True and data['fourthFingerIsOpen']==True:\n                righthandopen=True\n                cv2.putText(canvas,\"right hand open\", (50,50), cv2.FONT_HERSHEY_SIMPLEX, 2, (0,0,255))\n                \n            if data['firstFingerIsOpen']==False and data['secondFingerIsOpen']==False and data['thirdFingerIsOpen']==False and data['fourthFingerIsOpen']==False:\n                righthandopen=False\n                cv2.putText(canvas,\"right hand closed\", (50,50), cv2.FONT_HERSHEY_SIMPLEX, 2, (0,0,255))\n                \n        if data['righthandcentre'][0] is not None:\n            canvas = cv2.circle(canvas,(int(data['righthandcentre'][0]*rimg.shape[1]),int(data['righthandcentre'][1]*rimg.shape[0])), 2, (0, 255, 0), 2)\n        \n        if data['rboundingbox'][0] is not None:\n            \n            if recx1>data['rboundingbox'][0]*rimg.shape[1] and recx2<data['rboundingbox'][2]*rimg.shape[1] and recy1>data['rboundingbox'][1]*rimg.shape[0] and recy2<data['rboundingbox'][3]*rimg.shape[0]:\n\n                rectangleintersect=True\n                rectcolor=(0,255,0)\n                \n            else:\n                if righthandopen==True:\n                    rectangleintersect=False\n                    rectcolor=(255,0,0)\n\n                \n            if righthandopen==False and rectangleintersect==True:\n                recx1=int(data['righthandcentre'][0]*rimg.shape[1])\n                recy1=int(data['righthandcentre'][1]*rimg.shape[0])\n                recx2=recx1+50\n                recy2=recy1+50\n                if righthandopen==True:\n                    rectangleintersect=False\n                    rectcolor=(255,0,0)\n                    prevopen=True\n                \n                \n        \n        canvas=cv2.rectangle(canvas, (recx1,recy1), (recx2,recy2), rectcolor, 2)\n        cv2.putText(canvas,str(rectangleintersect), (50,80), cv2.FONT_HERSHEY_SIMPLEX, 2, (0,0,255))\n\n        \n\n\n\n        #print(data)\n        \n        \n        #cv2.putText(image,str(data), (50,170), cv2.FONT_HERSHEY_SIMPLEX, 2, (0,0,255))\n        cv2.imshow('windows', rimg)\n        cv2.imshow('windows2', limg)\n        cv2.imshow('canvas', canvas)\n        if cv2.waitKey(5) & 0xFF == 27:\n            break\n        \n       "
  },
  {
   "cell_type": "code",
   "execution_count": 9,
   "metadata": {},
   "outputs": [],
   "source": "t2 = Process(target = show, args = (q,rq,lq,))\n"
  },
  {
   "cell_type": "code",
   "execution_count": 10,
   "metadata": {},
   "outputs": [],
   "source": "t1.start()"
  },
  {
   "cell_type": "code",
   "execution_count": 11,
   "metadata": {},
   "outputs": [],
   "source": "t2.start()"
  },
  {
   "cell_type": "code",
   "execution_count": null,
   "metadata": {},
   "outputs": [],
   "source": ""
  }
 ],
 "metadata": {
  "kernelspec": {
   "display_name": "penv",
   "language": "python",
   "name": "penv"
  },
  "language_info": {
   "codemirror_mode": {
    "name": "ipython",
    "version": 3
   },
   "file_extension": ".py",
   "mimetype": "text/x-python",
   "name": "python",
   "nbconvert_exporter": "python",
   "pygments_lexer": "ipython3",
   "version": "3.6.9"
  }
 },
 "nbformat": 4,
 "nbformat_minor": 4
}
