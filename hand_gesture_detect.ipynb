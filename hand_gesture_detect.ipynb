{
 "cells": [
  {
   "cell_type": "code",
   "execution_count": 1,
   "metadata": {},
   "outputs": [],
   "source": "import cv2\nimport mediapipe as mp\nmp_drawing = mp.solutions.drawing_utils\nmp_hands = mp.solutions.hands\nimport tensorflow as tf\nimport numpy as np\nimport re"
  },
  {
   "cell_type": "code",
   "execution_count": 48,
   "metadata": {},
   "outputs": [],
   "source": "hands = mp_hands.Hands(\n    min_detection_confidence=0.7, min_tracking_confidence=0.5)\ncap = cv2.VideoCapture(0)\nwhile cap.isOpened():\n    success, image = cap.read()\n    img_cpy=image.copy()\n    roimg=image.copy()\n    img_cpy=cv2.flip(img_cpy, 1)\n    roimg=cv2.flip(roimg, 1)\n    limg_cpy=img_cpy.copy()\n    height, width, channels = image.shape\n\n    if not success:\n        break\n\n  # Flip the image horizontally for a later selfie-view display, and convert\n  # the BGR image to RGB.\n    image = cv2.cvtColor(cv2.flip(image, 1), cv2.COLOR_BGR2RGB)\n  # To improve performance, optionally mark the image as not writeable to\n  # pass by reference.\n    image.flags.writeable = False\n    results = hands.process(image)\n\n  # Draw the hand annotations on the image.\n    image.flags.writeable = True\n    image = cv2.cvtColor(image, cv2.COLOR_RGB2BGR)\n    lxcords=[] #left hand coordinates\n    lycords=[]\n    xcords=[] #right hand coordinates\n    ycords=[]\n    if results.multi_hand_landmarks:\n        for hand_landmarks in results.multi_hand_landmarks:\n            mp_drawing.draw_landmarks(\n          image, hand_landmarks, mp_hands.HAND_CONNECTIONS)\n            \n        for i,v in enumerate(results.multi_hand_landmarks):\n           \n            \n            handed=2\n      #left hand is 0, right hand is 1\n            handed_str=str(results.multi_handedness[i])\n            handed_str=handed_str.split(\"\\n\")[3].split(\":\")[1]\n            if (re.search(\"Right\",handed_str)):\n                handed=1\n                xcords=[] #right hand coordinates\n                ycords=[]\n        #print(\"right hand\")\n            else:\n                handed=0\n                lxcords=[] #left hand coordinates\n                lycords=[]\n        \n\n      \n            hand_coords=str(v)\n            hand_coords=hand_coords.split('landmark')\n            hand_coords=hand_coords[1:]\n            for lm in hand_coords:\n                b=lm.split('\\n')\n                x=float(b[1].split(' ')[3])\n                y=float(b[2].split(' ')[3])\n                z=float(b[3].split(' ')[3])\n                if handed==1:\n                    xcords.append(x)\n                    ycords.append(y)\n                    img_cpy = cv2.circle(img_cpy,(int(x*width),int(y*height)), 2, (255, 0, 0), 2)\n                elif handed ==0:\n                    lxcords.append(x)\n                    lycords.append(y)\n                    lmg_cpy = cv2.circle(limg_cpy,(int(x*width),int(y*height)), 2, (0, 0, 255), 2)\n                    \n    #cv2.putText(img_cpy,str(len(xcords)), (50,50), cv2.FONT_HERSHEY_SIMPLEX, 2, 255)\n    #cv2.putText(img_cpy,str(len(lxcords)), (50,100), cv2.FONT_HERSHEY_SIMPLEX, 2, 255)\n    \n    righthandcentre=(None,None)\n    lefthandcentre=(None,None)\n\n\n                    \n    if len(xcords)!=0  and len(ycords)!=0:\n        x_max=max(xcords)\n        x_min=min(xcords)\n        y_max=max(ycords)\n        y_min=min(ycords)\n        img_cpy=cv2.rectangle(img_cpy, (int(x_min*width),int(y_min*height)), (int(x_max*width),int(y_max*height)), (255,0,0), 2)\n        righthandcentre=((x_max+x_min)/2, (y_max+y_min)/2)\n        img_cpy = cv2.circle(img_cpy,(int(righthandcentre[0]*width),int(righthandcentre[1]*height)), 2, (0, 255, 0), 2)\n\n        \n    if len(lxcords)!=0  and len(lycords)!=0:\n        lx_max=max(lxcords)\n        lx_min=min(lxcords)\n        ly_max=max(lycords)\n        ly_min=min(lycords)\n        limg_cpy=cv2.rectangle(limg_cpy, (int(lx_min*width),int(ly_min*height)), (int(lx_max*width),int(ly_max*height)), (255,0,0), 2)\n        lefthandcentre=((lx_max+lx_min)/2, (ly_max+ly_min)/2)\n        limg_cpy = cv2.circle(limg_cpy,(int(lefthandcentre[0]*width),int(lefthandcentre[1]*height)), 2, (0, 255, 0), 2)\n\n    thumbIsOpen = False\n    firstFingerIsOpen = False\n    secondFingerIsOpen = False\n    thirdFingerIsOpen = False\n    fourthFingerIsOpen = False\n    \n    LeftthumbIsOpen = False\n    LeftfirstFingerIsOpen = False\n    LeftsecondFingerIsOpen = False\n    LeftthirdFingerIsOpen = False\n    LeftfourthFingerIsOpen = False\n    \n    Lefthandfacing=False\n    Righthandfacing=False\n    \n    \n    \n    \n    \n    #print (len(xcords))\n    \n    if len(xcords)>=21:\n        if (xcords[20]>xcords[2] ):\n            Righthandfacing=True\n           # print(\"right hand facing\")\n            cv2.putText(img_cpy,\"Right hand facing\", (50,50), cv2.FONT_HERSHEY_SIMPLEX, 2, (0,255,0))\n\n    \n    if len(lxcords)>=21:\n        if (lxcords[20]<lxcords[2] ):\n            Lefthandfacing=True \n           # print(\"left hand facing\")\n\n            cv2.putText(limg_cpy,\"Left hand facing\", (50,50), cv2.FONT_HERSHEY_SIMPLEX, 2, (0,255,0))\n\n            \n            \n\n    #RIGHT HAND       \n    if len(xcords)>=5:\n        KeyPoint = xcords[2]\n        if (xcords[3] < KeyPoint and xcords[4] < KeyPoint):\n            if Righthandfacing:\n                thumbIsOpen = True\n            cv2.putText(img_cpy,\"thumb is open\", (50,50), cv2.FONT_HERSHEY_SIMPLEX, 2, 255)\n                \n    if len(ycords)>=9:   \n        KeyPoint = ycords[6]\n        if (ycords[7] < KeyPoint and ycords[8] < KeyPoint):\n            firstFingerIsOpen = True\n            cv2.putText(img_cpy,\"firstfinger is open\", (50,80), cv2.FONT_HERSHEY_SIMPLEX, 2, 255)\n                \n    if len(ycords)>=13:   \n        KeyPoint = ycords[10]\n        if (ycords[11] < KeyPoint and ycords[12] < KeyPoint):\n            secondFingerIsOpen  = True\n            cv2.putText(img_cpy,\"secondfinger is open\", (50,110), cv2.FONT_HERSHEY_SIMPLEX, 2, 255)\n                \n    if len(ycords)>=17:   \n        KeyPoint = ycords[14]\n        if (ycords[15] < KeyPoint and ycords[16] < KeyPoint):\n            thirdFingerIsOpen  = True\n            cv2.putText(img_cpy,\"thirdfinger is open\", (50,140), cv2.FONT_HERSHEY_SIMPLEX, 2, 255)\n                \n    if len(ycords)>=21:   \n        KeyPoint = ycords[18]\n        if (ycords[19] < KeyPoint and ycords[20] < KeyPoint):\n            fourthFingerIsOpen  = True\n            cv2.putText(img_cpy,\"fourthfinger is open\", (50,170), cv2.FONT_HERSHEY_SIMPLEX, 2, 255)\n            \n    #LEFT HAND \n    if len(lxcords)>=5:\n        KeyPoint = lxcords[2]\n        if (lxcords[3] > KeyPoint and lxcords[4] > KeyPoint):\n            if Lefthandfacing:\n                LeftthumbIsOpen = True\n            cv2.putText(limg_cpy,\"Leftthumb is open\", (50,50), cv2.FONT_HERSHEY_SIMPLEX, 2, (0,0,255))\n                \n    if len(lycords)>=9:   \n        KeyPoint = lycords[6]\n        if (lycords[7] < KeyPoint and lycords[8] < KeyPoint):\n            LeftfirstFingerIsOpen = True\n            cv2.putText(limg_cpy,\"Leftfirstfinger is open\", (50,80), cv2.FONT_HERSHEY_SIMPLEX, 2,(0,0,255))\n                \n    if len(lycords)>=13:   \n        KeyPoint = lycords[10]\n        if (lycords[11] < KeyPoint and lycords[12] < KeyPoint):\n            LeftsecondFingerIsOpen  = True\n            cv2.putText(limg_cpy,\"Leftsecondfinger is open\", (50,110), cv2.FONT_HERSHEY_SIMPLEX, 2, (0,0,255))\n                \n    if len(lycords)>=17:   \n        KeyPoint = lycords[14]\n        if (lycords[15] < KeyPoint and lycords[16] < KeyPoint):\n            LeftthirdFingerIsOpen  = True\n            cv2.putText(limg_cpy,\"Leftthirdfinger is open\", (50,140), cv2.FONT_HERSHEY_SIMPLEX, 2,(0,0,255))\n                \n    if len(lycords)>=21:   \n        KeyPoint = lycords[18]\n        if (lycords[19] < KeyPoint and lycords[20] < KeyPoint):\n            LeftfourthFingerIsOpen  = True\n            cv2.putText(limg_cpy,\"Leftfourthfinger is open\", (50,170), cv2.FONT_HERSHEY_SIMPLEX, 2, (0,0,255))\n                \n                \n            \n\n    handstate={\n    \"thumbIsOpen\": thumbIsOpen,\n    \"firstFingerIsOpen\" : firstFingerIsOpen,\n    \"secondFingerIsOpen\" : secondFingerIsOpen,\n    \"thirdFingerIsOpen\" : thirdFingerIsOpen,\n    \"fourthFingerIsOpen\" : fourthFingerIsOpen,\n    \n    \"LeftthumbIsOpen\" : LeftthumbIsOpen,\n    \"LeftfirstFingerIsOpen\": LeftfirstFingerIsOpen,\n    \"LeftsecondFingerIsOpen\" : LeftsecondFingerIsOpen,\n    \"LeftthirdFingerIsOpen\" : LeftthirdFingerIsOpen,\n    \"LeftfourthFingerIsOpen\" : LeftfourthFingerIsOpen,\n    \n    \"Lefthandfacing\" : Lefthandfacing,\n    \"Righthandfacing\" :Righthandfacing,\n        \n    \"xcords\" : xcords,\n    \"ycords\" : ycords,\n        \n    \"lxcords\" : lxcords,\n    \"lycords\" : lycords,\n        \n    \"righthandcentre\" :righthandcentre,\n    \"lefthandcentre\" :lefthandcentre,\n    \n    \"rboundingbox\" : (x_min,y_min,x_max,y_max)\n    \"lboundingbox\" : (lx_min,ly_min,lx_max,ly_max)\n        \n    }\n    \n    cv2.imshow('MediaPipe Hands', img_cpy)\n    cv2.imshow('lMediaPipe Hands', limg_cpy)\n    #cv2.imshow('MediaHands', image)\n    if cv2.waitKey(5) & 0xFF == 27:\n        break"
  },
  {
   "cell_type": "code",
   "execution_count": 49,
   "metadata": {},
   "outputs": [],
   "source": "cap.release()\ncv2.destroyAllWindows()"
  },
  {
   "cell_type": "code",
   "execution_count": 50,
   "metadata": {},
   "outputs": [
    {
     "name": "stdout",
     "output_type": "stream",
     "text": "{'thumbIsOpen': True, 'firstFingerIsOpen': True, 'secondFingerIsOpen': True, 'thirdFingerIsOpen': True, 'fourthFingerIsOpen': True, 'LeftthumbIsOpen': False, 'LeftfirstFingerIsOpen': False, 'LeftsecondFingerIsOpen': False, 'LeftthirdFingerIsOpen': False, 'LeftfourthFingerIsOpen': False, 'Lefthandfacing': False, 'Righthandfacing': True, 'xcords': [0.8343085646629333, 0.75822514295578, 0.6973577737808228, 0.6504444479942322, 0.5975390672683716, 0.7564576268196106, 0.7465271949768066, 0.740032434463501, 0.7335000038146973, 0.8094722032546997, 0.8130440711975098, 0.8159922361373901, 0.8180521130561829, 0.8558040261268616, 0.8741624355316162, 0.8876450061798096, 0.8930012583732605, 0.89863121509552, 0.9294463992118835, 0.9480361938476562, 0.9576911926269531], 'ycords': [0.6965008974075317, 0.6824973225593567, 0.6153915524482727, 0.5742956399917603, 0.5593174695968628, 0.4660817086696625, 0.3535275459289551, 0.29527977108955383, 0.2489311248064041, 0.45918935537338257, 0.33054134249687195, 0.26857703924179077, 0.2202255129814148, 0.47810813784599304, 0.3669675588607788, 0.30771687626838684, 0.25510314106941223, 0.5175923109054565, 0.4439446032047272, 0.40275368094444275, 0.35962823033332825], 'lxcords': [], 'lycords': [], 'righthandcentre': (0.7776151299476624, 0.45836320519447327), 'lefthandcentre': (None, None)}\n"
    }
   ],
   "source": "print(handstate)"
  },
  {
   "cell_type": "code",
   "execution_count": null,
   "metadata": {},
   "outputs": [],
   "source": ""
  }
 ],
 "metadata": {
  "kernelspec": {
   "display_name": "penv",
   "language": "python",
   "name": "penv"
  },
  "language_info": {
   "codemirror_mode": {
    "name": "ipython",
    "version": 3
   },
   "file_extension": ".py",
   "mimetype": "text/x-python",
   "name": "python",
   "nbconvert_exporter": "python",
   "pygments_lexer": "ipython3",
   "version": "3.6.9"
  }
 },
 "nbformat": 4,
 "nbformat_minor": 4
}
